{
 "cells": [
  {
   "cell_type": "code",
   "execution_count": 3,
   "metadata": {
    "id": "DFJYJc1p_LRy"
   },
   "outputs": [
    {
     "name": "stdout",
     "output_type": "stream",
     "text": [
      "Requirement already satisfied: patchify in /Users/ajayramaraju/anaconda3/lib/python3.11/site-packages (0.2.3)\r\n",
      "Requirement already satisfied: numpy<2,>=1 in /Users/ajayramaraju/anaconda3/lib/python3.11/site-packages (from patchify) (1.24.3)\r\n"
     ]
    }
   ],
   "source": [
    "#Use patchify to break large volumes into smaller for training \n",
    "#and also to put patches back together after prediction.\n",
    "#!pip install patchify"
   ]
  },
  {
   "cell_type": "code",
   "execution_count": 1,
   "metadata": {
    "id": "foXdS4Uil4WP"
   },
   "outputs": [
    {
     "name": "stdout",
     "output_type": "stream",
     "text": [
      "2.13.1\n",
      "2.13.1\n"
     ]
    }
   ],
   "source": [
    "import tensorflow as tf\n",
    "import keras\n",
    "print(tf.__version__)\n",
    "print(keras.__version__)"
   ]
  },
  {
   "cell_type": "code",
   "execution_count": 2,
   "metadata": {
    "id": "Dr4Is2DRMMer"
   },
   "outputs": [
    {
     "name": "stdout",
     "output_type": "stream",
     "text": [
      "Segmentation Models: using `tf.keras` framework.\n"
     ]
    }
   ],
   "source": [
    "import segmentation_models_3D as sm\n"
   ]
  },
  {
   "cell_type": "code",
   "execution_count": 3,
   "metadata": {
    "id": "d7hKivzw-0V9"
   },
   "outputs": [],
   "source": [
    "from skimage import io\n",
    "from patchify import patchify, unpatchify\n",
    "import numpy as np\n",
    "from matplotlib import pyplot as plt\n",
    "from keras import backend as K\n",
    "from keras.utils import to_categorical\n",
    "from sklearn.model_selection import train_test_split"
   ]
  },
  {
   "cell_type": "code",
   "execution_count": 4,
   "metadata": {
    "id": "HWZiqrMK-kVb"
   },
   "outputs": [],
   "source": [
    "#Load input images and masks. \n",
    "#Here we load 256x256x256 pixel volume. We will break it into patches of 64x64x64 for training. \n",
    "image = io.imread('XTM_pristine_raw.tif')\n",
    "img_patches = patchify(image, (64, 64, 64), step=64)  #Step=64 for 64 patches means no overlap\n",
    "\n",
    "mask = io.imread('PTY_pristine_raw.tif')\n",
    "mask_patches = patchify(mask, (64, 64, 64), step=64)  \n"
   ]
  },
  {
   "cell_type": "code",
   "execution_count": 8,
   "metadata": {
    "id": "A8a8BumA_qpa"
   },
   "outputs": [
    {
     "data": {
      "text/plain": [
       "<matplotlib.image.AxesImage at 0x153479f50>"
      ]
     },
     "execution_count": 8,
     "metadata": {},
     "output_type": "execute_result"
    },
    {
     "data": {
      "image/png": "[encoded data removed]",
      "text/plain": [
       "<Figure size 640x480 with 1 Axes>"
      ]
     },
     "metadata": {},
     "output_type": "display_data"
    }
   ],
   "source": [
    "#plt.imshow(img_patches[0,2,3,:,:,32])\n",
    "#plt.imshow(mask_patches[1,2,3,:,:,32])"
   ]
  },
  {
   "cell_type": "code",
   "execution_count": 5,
   "metadata": {
    "id": "K08wiQ0y-ogu"
   },
   "outputs": [
    {
     "name": "stdout",
     "output_type": "stream",
     "text": [
      "(14336, 64, 64, 64)\n"
     ]
    }
   ],
   "source": [
    "\n",
    "input_img = np.reshape(img_patches, (-1, img_patches.shape[3], img_patches.shape[4], img_patches.shape[5]))\n",
    "input_mask = np.reshape(mask_patches, (-1, mask_patches.shape[3], mask_patches.shape[4], mask_patches.shape[5]))\n",
    "\n",
    "print(input_img.shape)  # n_patches, x, y, z\n",
    "\n"
   ]
  },
  {
   "cell_type": "code",
   "execution_count": 6,
   "metadata": {
    "id": "3FqzxzsX_4YQ"
   },
   "outputs": [],
   "source": [
    "n_classes=4"
   ]
  },
  {
   "cell_type": "code",
   "execution_count": null,
   "metadata": {
    "id": "av8BBXU0-rdw"
   },
   "outputs": [],
   "source": [
    "#Convert grey image to 3 channels by copying channel 3 times.\n",
    "#We do this as our unet model expects 3 channel input. \n",
    "\n",
    "train_img = np.stack((input_img,)*3, axis=-1)\n",
    "train_mask = np.expand_dims(input_mask, axis=4)\n",
    "\n",
    "\n",
    "train_mask_cat = to_categorical(train_mask, num_classes=n_classes)\n",
    "\n",
    "\n",
    "X_train, X_test, y_train, y_test = train_test_split(train_img, train_mask_cat, test_size = 0.10, random_state = 0)\n",
    "\n"
   ]
  },
  {
   "cell_type": "code",
   "execution_count": 14,
   "metadata": {
    "id": "Higavd5lmj6A"
   },
   "outputs": [],
   "source": [
    "\n",
    "# Loss Function and coefficients to be used during training:\n",
    "def dice_coefficient(y_true, y_pred):\n",
    "    smoothing_factor = 1\n",
    "    flat_y_true = K.flatten(y_true)\n",
    "    flat_y_pred = K.flatten(y_pred)\n",
    "    return (2. * K.sum(flat_y_true * flat_y_pred) + smoothing_factor) / (K.sum(flat_y_true) + K.sum(flat_y_pred) + smoothing_factor)\n",
    "\n",
    "def dice_coefficient_loss(y_true, y_pred):\n",
    "    return 1 - dice_coefficient(y_true, y_pred)\n"
   ]
  },
  {
   "cell_type": "markdown",
   "metadata": {
    "id": "wh0P2o-kQwSK"
   },
   "source": [
    "Backbones: ['resnet18', 'resnet34', 'resnet50', 'resnet101', 'resnet152', 'seresnet18', 'seresnet34', 'seresnet50', 'seresnet101', 'seresnet152', 'seresnext50', 'seresnext101', 'senet154', 'resnext50', 'resnext101', 'vgg16', 'vgg19', 'densenet121', 'densenet169', 'densenet201', 'inceptionresnetv2', 'inceptionv3', 'mobilenet', 'mobilenetv2', 'efficientnetb0', 'efficientnetb1', 'efficientnetb2', 'efficientnetb3', 'efficientnetb4', 'efficientnetb5', 'efficientnetb6', 'efficientnetb7']"
   ]
  },
  {
   "cell_type": "code",
   "execution_count": null,
   "metadata": {
    "id": "mWiQsv6IqGGF"
   },
   "outputs": [],
   "source": [
    "#Define parameters for our model.\n",
    "\n",
    "encoder_weights = 'imagenet'\n",
    "BACKBONE = 'vgg16'  #Try vgg16, efficientnetb7, inceptionv3, resnet50\n",
    "activation = 'softmax'\n",
    "patch_size = 64\n",
    "n_classes = 4\n",
    "channels=3\n",
    "\n",
    "LR = 0.0001\n",
    "optim = keras.optimizers.Adam(LR)\n",
    "\n",
    "# Segmentation models losses can be combined together by '+' and scaled by integer or float factor\n",
    "# set class weights for dice_loss (car: 1.; pedestrian: 2.; background: 0.5;)\n",
    "dice_loss = sm.losses.DiceLoss(class_weights=np.array([0.25, 0.25, 0.25, 0.25])) \n",
    "focal_loss = sm.losses.CategoricalFocalLoss()\n",
    "total_loss = dice_loss + (1 * focal_loss)\n",
    "\n",
    "# actulally total_loss can be imported directly from library, above example just show you how to manipulate with losses\n",
    "# total_loss = sm.losses.binary_focal_dice_loss # or sm.losses.categorical_focal_dice_loss \n",
    "\n",
    "metrics = [sm.metrics.IOUScore(threshold=0.5), sm.metrics.FScore(threshold=0.5)]"
   ]
  },
  {
   "cell_type": "code",
   "execution_count": 16,
   "metadata": {
    "id": "lePX43TyD1Lp"
   },
   "outputs": [],
   "source": [
    "preprocess_input = sm.get_preprocessing(BACKBONE)"
   ]
  },
  {
   "cell_type": "code",
   "execution_count": 17,
   "metadata": {
    "id": "3jTN_tsXD7qK"
   },
   "outputs": [],
   "source": [
    "#Preprocess input data - otherwise you end up with garbage resutls \n",
    "# and potentially model that does not converge.\n",
    "X_train_prep = preprocess_input(X_train)\n",
    "X_test_prep = preprocess_input(X_test)"
   ]
  },
  {
   "cell_type": "code",
   "execution_count": null,
   "metadata": {
    "id": "jdoK1wudAJQ7"
   },
   "outputs": [],
   "source": [
    "#Define the model. Here we use Unet but we can also use other model architectures from the library.\n",
    "model = sm.Unet(BACKBONE, classes=n_classes, \n",
    "                input_shape=(patch_size, patch_size, patch_size, channels), \n",
    "                encoder_weights=encoder_weights,\n",
    "                activation=activation)\n",
    "\n",
    "model.compile(optimizer = optim, loss=total_loss, metrics=metrics)\n",
    "print(model.summary())"
   ]
  },
  {
   "cell_type": "code",
   "execution_count": null,
   "metadata": {
    "colab": {
     "base_uri": "https://localhost:8080/"
    },
    "id": "f69gK8DoAQ1C",
    "outputId": "daa0be19-0866-4379-c2d1-5c59e878b12a"
   },
   "outputs": [
    {
     "name": "stdout",
     "output_type": "stream",
     "text": [
      "WARNING:tensorflow:From /tensorflow-1.15.2/python3.6/tensorflow_core/python/ops/math_grad.py:1375: where (from tensorflow.python.ops.array_ops) is deprecated and will be removed in a future version.\n",
      "Instructions for updating:\n",
      "Use tf.where in 2.0, which has the same broadcast rule as np.where\n",
      "WARNING:tensorflow:From /tensorflow-1.15.2/python3.6/keras/backend/tensorflow_backend.py:422: The name tf.global_variables is deprecated. Please use tf.compat.v1.global_variables instead.\n",
      "\n",
      "Train on 57 samples, validate on 7 samples\n",
      "Epoch 1/100\n",
      "57/57 [==============================] - 42s 735ms/step - loss: 1.0129 - iou_score: 0.0845 - f1-score: 0.1436 - val_loss: 1.4637 - val_iou_score: 0.0412 - val_f1-score: 0.0750\n",
      "Epoch 2/100\n",
      "57/57 [==============================] - 14s 244ms/step - loss: 0.9787 - iou_score: 0.1936 - f1-score: 0.2965 - val_loss: 1.2845 - val_iou_score: 0.0531 - val_f1-score: 0.0951\n",
      "Epoch 3/100\n",
      "57/57 [==============================] - 14s 246ms/step - loss: 0.9565 - iou_score: 0.3277 - f1-score: 0.4564 - val_loss: 1.0878 - val_iou_score: 0.0956 - val_f1-score: 0.1649\n",
      "Epoch 4/100\n",
      "57/57 [==============================] - 14s 249ms/step - loss: 0.9421 - iou_score: 0.3731 - f1-score: 0.4933 - val_loss: 1.0750 - val_iou_score: 0.1062 - val_f1-score: 0.1784\n",
      "Epoch 5/100\n",
      "57/57 [==============================] - 14s 253ms/step - loss: 0.9300 - iou_score: 0.4231 - f1-score: 0.5383 - val_loss: 1.0357 - val_iou_score: 0.1298 - val_f1-score: 0.2102\n",
      "Epoch 6/100\n",
      "57/57 [==============================] - 15s 255ms/step - loss: 0.9225 - iou_score: 0.4479 - f1-score: 0.5656 - val_loss: 0.9947 - val_iou_score: 0.1797 - val_f1-score: 0.2811\n",
      "Epoch 7/100\n",
      "57/57 [==============================] - 14s 252ms/step - loss: 0.9127 - iou_score: 0.5027 - f1-score: 0.6285 - val_loss: 0.9757 - val_iou_score: 0.2411 - val_f1-score: 0.3627\n",
      "Epoch 8/100\n",
      "57/57 [==============================] - 14s 251ms/step - loss: 0.9026 - iou_score: 0.5462 - f1-score: 0.6758 - val_loss: 0.9375 - val_iou_score: 0.3642 - val_f1-score: 0.4842\n",
      "Epoch 9/100\n",
      "57/57 [==============================] - 14s 251ms/step - loss: 0.8952 - iou_score: 0.5602 - f1-score: 0.6837 - val_loss: 0.9222 - val_iou_score: 0.4072 - val_f1-score: 0.5261\n",
      "Epoch 10/100\n",
      "57/57 [==============================] - 14s 252ms/step - loss: 0.8905 - iou_score: 0.5679 - f1-score: 0.6912 - val_loss: 0.9093 - val_iou_score: 0.4784 - val_f1-score: 0.6114\n",
      "Epoch 11/100\n",
      "57/57 [==============================] - 14s 253ms/step - loss: 0.8823 - iou_score: 0.6151 - f1-score: 0.7410 - val_loss: 0.9068 - val_iou_score: 0.4836 - val_f1-score: 0.6109\n",
      "Epoch 12/100\n",
      "57/57 [==============================] - 14s 252ms/step - loss: 0.8784 - iou_score: 0.6089 - f1-score: 0.7275 - val_loss: 0.9016 - val_iou_score: 0.5360 - val_f1-score: 0.6704\n",
      "Epoch 13/100\n",
      "57/57 [==============================] - 14s 252ms/step - loss: 0.8724 - iou_score: 0.6237 - f1-score: 0.7459 - val_loss: 0.8898 - val_iou_score: 0.5834 - val_f1-score: 0.7076\n",
      "Epoch 14/100\n",
      "57/57 [==============================] - 14s 252ms/step - loss: 0.8669 - iou_score: 0.6338 - f1-score: 0.7512 - val_loss: 0.8829 - val_iou_score: 0.6364 - val_f1-score: 0.7582\n",
      "Epoch 15/100\n",
      "57/57 [==============================] - 14s 251ms/step - loss: 0.8584 - iou_score: 0.6567 - f1-score: 0.7764 - val_loss: 0.8749 - val_iou_score: 0.6722 - val_f1-score: 0.7855\n",
      "Epoch 16/100\n",
      "57/57 [==============================] - 14s 251ms/step - loss: 0.8531 - iou_score: 0.6725 - f1-score: 0.7848 - val_loss: 0.8851 - val_iou_score: 0.6099 - val_f1-score: 0.7381\n",
      "Epoch 17/100\n",
      "57/57 [==============================] - 14s 251ms/step - loss: 0.8503 - iou_score: 0.6573 - f1-score: 0.7675 - val_loss: 0.8854 - val_iou_score: 0.6234 - val_f1-score: 0.7460\n",
      "Epoch 18/100\n",
      "57/57 [==============================] - 14s 251ms/step - loss: 0.8484 - iou_score: 0.6758 - f1-score: 0.7887 - val_loss: 0.8772 - val_iou_score: 0.6269 - val_f1-score: 0.7423\n",
      "Epoch 19/100\n",
      "57/57 [==============================] - 14s 251ms/step - loss: 0.8417 - iou_score: 0.6925 - f1-score: 0.8035 - val_loss: 0.8726 - val_iou_score: 0.6433 - val_f1-score: 0.7544\n",
      "Epoch 20/100\n",
      "57/57 [==============================] - 14s 252ms/step - loss: 0.8423 - iou_score: 0.6723 - f1-score: 0.7834 - val_loss: 0.8624 - val_iou_score: 0.6998 - val_f1-score: 0.8105\n",
      "Epoch 21/100\n",
      "57/57 [==============================] - 14s 252ms/step - loss: 0.8349 - iou_score: 0.6938 - f1-score: 0.8002 - val_loss: 0.8650 - val_iou_score: 0.6872 - val_f1-score: 0.7994\n",
      "Epoch 22/100\n",
      "57/57 [==============================] - 14s 252ms/step - loss: 0.8354 - iou_score: 0.6813 - f1-score: 0.7910 - val_loss: 0.8537 - val_iou_score: 0.7167 - val_f1-score: 0.8186\n",
      "Epoch 23/100\n",
      "57/57 [==============================] - 14s 251ms/step - loss: 0.8374 - iou_score: 0.6754 - f1-score: 0.7854 - val_loss: 0.8526 - val_iou_score: 0.7208 - val_f1-score: 0.8215\n",
      "Epoch 24/100\n",
      "57/57 [==============================] - 14s 252ms/step - loss: 0.8290 - iou_score: 0.7036 - f1-score: 0.8078 - val_loss: 0.8583 - val_iou_score: 0.6792 - val_f1-score: 0.7916\n",
      "Epoch 25/100\n",
      "57/57 [==============================] - 14s 252ms/step - loss: 0.8291 - iou_score: 0.6946 - f1-score: 0.8002 - val_loss: 0.8468 - val_iou_score: 0.7225 - val_f1-score: 0.8227\n",
      "Epoch 26/100\n",
      "57/57 [==============================] - 14s 252ms/step - loss: 0.8248 - iou_score: 0.6955 - f1-score: 0.7990 - val_loss: 0.8441 - val_iou_score: 0.7159 - val_f1-score: 0.8197\n",
      "Epoch 27/100\n",
      "57/57 [==============================] - 14s 252ms/step - loss: 0.8281 - iou_score: 0.6790 - f1-score: 0.7797 - val_loss: 0.8490 - val_iou_score: 0.6801 - val_f1-score: 0.7934\n",
      "Epoch 28/100\n",
      "57/57 [==============================] - 14s 251ms/step - loss: 0.8210 - iou_score: 0.6976 - f1-score: 0.8003 - val_loss: 0.8438 - val_iou_score: 0.6886 - val_f1-score: 0.8004\n",
      "Epoch 29/100\n",
      "57/57 [==============================] - 14s 251ms/step - loss: 0.8179 - iou_score: 0.7160 - f1-score: 0.8188 - val_loss: 0.8373 - val_iou_score: 0.7165 - val_f1-score: 0.8146\n",
      "Epoch 30/100\n",
      "57/57 [==============================] - 14s 251ms/step - loss: 0.8231 - iou_score: 0.6876 - f1-score: 0.7856 - val_loss: 0.8401 - val_iou_score: 0.6955 - val_f1-score: 0.7969\n",
      "Epoch 31/100\n",
      "57/57 [==============================] - 14s 251ms/step - loss: 0.8217 - iou_score: 0.6875 - f1-score: 0.7856 - val_loss: 0.8287 - val_iou_score: 0.7400 - val_f1-score: 0.8393\n",
      "Epoch 32/100\n",
      "57/57 [==============================] - 14s 251ms/step - loss: 0.8199 - iou_score: 0.7129 - f1-score: 0.8173 - val_loss: 0.8250 - val_iou_score: 0.7405 - val_f1-score: 0.8362\n",
      "Epoch 33/100\n",
      "57/57 [==============================] - 14s 251ms/step - loss: 0.8135 - iou_score: 0.7362 - f1-score: 0.8362 - val_loss: 0.8311 - val_iou_score: 0.6984 - val_f1-score: 0.7921\n",
      "Epoch 34/100\n",
      "57/57 [==============================] - 14s 251ms/step - loss: 0.8170 - iou_score: 0.7110 - f1-score: 0.8103 - val_loss: 0.8173 - val_iou_score: 0.7457 - val_f1-score: 0.8408\n",
      "Epoch 35/100\n",
      "57/57 [==============================] - 14s 250ms/step - loss: 0.8109 - iou_score: 0.7256 - f1-score: 0.8268 - val_loss: 0.8179 - val_iou_score: 0.7338 - val_f1-score: 0.8294\n",
      "Epoch 36/100\n",
      "57/57 [==============================] - 14s 250ms/step - loss: 0.8160 - iou_score: 0.7029 - f1-score: 0.8001 - val_loss: 0.8237 - val_iou_score: 0.7087 - val_f1-score: 0.8050\n",
      "Epoch 37/100\n",
      "57/57 [==============================] - 14s 250ms/step - loss: 0.8148 - iou_score: 0.7225 - f1-score: 0.8248 - val_loss: 0.8331 - val_iou_score: 0.6704 - val_f1-score: 0.7799\n",
      "Epoch 38/100\n",
      "57/57 [==============================] - 14s 251ms/step - loss: 0.8155 - iou_score: 0.6966 - f1-score: 0.7961 - val_loss: 0.8176 - val_iou_score: 0.7267 - val_f1-score: 0.8227\n",
      "Epoch 39/100\n",
      "57/57 [==============================] - 14s 251ms/step - loss: 0.8100 - iou_score: 0.7267 - f1-score: 0.8262 - val_loss: 0.8165 - val_iou_score: 0.7342 - val_f1-score: 0.8318\n",
      "Epoch 40/100\n",
      "57/57 [==============================] - 14s 250ms/step - loss: 0.8148 - iou_score: 0.7250 - f1-score: 0.8270 - val_loss: 0.8142 - val_iou_score: 0.7291 - val_f1-score: 0.8289\n",
      "Epoch 41/100\n",
      "57/57 [==============================] - 14s 250ms/step - loss: 0.8105 - iou_score: 0.7135 - f1-score: 0.8082 - val_loss: 0.8208 - val_iou_score: 0.7004 - val_f1-score: 0.8024\n",
      "Epoch 42/100\n",
      "57/57 [==============================] - 14s 250ms/step - loss: 0.8082 - iou_score: 0.7349 - f1-score: 0.8341 - val_loss: 0.8171 - val_iou_score: 0.7150 - val_f1-score: 0.8165\n",
      "Epoch 43/100\n",
      "57/57 [==============================] - 14s 250ms/step - loss: 0.8078 - iou_score: 0.7242 - f1-score: 0.8205 - val_loss: 0.8373 - val_iou_score: 0.6381 - val_f1-score: 0.7563\n",
      "Epoch 44/100\n",
      "57/57 [==============================] - 14s 250ms/step - loss: 0.8079 - iou_score: 0.7375 - f1-score: 0.8352 - val_loss: 0.8236 - val_iou_score: 0.6914 - val_f1-score: 0.7864\n",
      "Epoch 45/100\n",
      "57/57 [==============================] - 14s 250ms/step - loss: 0.8088 - iou_score: 0.7459 - f1-score: 0.8403 - val_loss: 0.8492 - val_iou_score: 0.6055 - val_f1-score: 0.7205\n",
      "Epoch 46/100\n",
      "57/57 [==============================] - 14s 250ms/step - loss: 0.8083 - iou_score: 0.7174 - f1-score: 0.8102 - val_loss: 0.8138 - val_iou_score: 0.7239 - val_f1-score: 0.8200\n",
      "Epoch 47/100\n",
      "57/57 [==============================] - 14s 250ms/step - loss: 0.8069 - iou_score: 0.7401 - f1-score: 0.8376 - val_loss: 0.8351 - val_iou_score: 0.6452 - val_f1-score: 0.7594\n",
      "Epoch 48/100\n",
      "57/57 [==============================] - 14s 251ms/step - loss: 0.8060 - iou_score: 0.7265 - f1-score: 0.8192 - val_loss: 0.8148 - val_iou_score: 0.7156 - val_f1-score: 0.8160\n",
      "Epoch 49/100\n",
      "57/57 [==============================] - 14s 250ms/step - loss: 0.8027 - iou_score: 0.7558 - f1-score: 0.8497 - val_loss: 0.8464 - val_iou_score: 0.6131 - val_f1-score: 0.7237\n",
      "Epoch 50/100\n",
      "57/57 [==============================] - 14s 250ms/step - loss: 0.8063 - iou_score: 0.7379 - f1-score: 0.8376 - val_loss: 0.8103 - val_iou_score: 0.7272 - val_f1-score: 0.8320\n",
      "Epoch 51/100\n",
      "57/57 [==============================] - 14s 250ms/step - loss: 0.8040 - iou_score: 0.7408 - f1-score: 0.8362 - val_loss: 0.8506 - val_iou_score: 0.6155 - val_f1-score: 0.7122\n",
      "Epoch 52/100\n",
      "57/57 [==============================] - 14s 250ms/step - loss: 0.8040 - iou_score: 0.7488 - f1-score: 0.8453 - val_loss: 0.8293 - val_iou_score: 0.6468 - val_f1-score: 0.7697\n",
      "Epoch 53/100\n",
      "57/57 [==============================] - 14s 250ms/step - loss: 0.8061 - iou_score: 0.7346 - f1-score: 0.8284 - val_loss: 0.8186 - val_iou_score: 0.7028 - val_f1-score: 0.8042\n",
      "Epoch 54/100\n",
      "57/57 [==============================] - 14s 250ms/step - loss: 0.8059 - iou_score: 0.7302 - f1-score: 0.8279 - val_loss: 0.8164 - val_iou_score: 0.7074 - val_f1-score: 0.8109\n",
      "Epoch 55/100\n",
      "57/57 [==============================] - 14s 250ms/step - loss: 0.8046 - iou_score: 0.7546 - f1-score: 0.8445 - val_loss: 0.8274 - val_iou_score: 0.6757 - val_f1-score: 0.7807\n",
      "Epoch 56/100\n",
      "57/57 [==============================] - 14s 250ms/step - loss: 0.8044 - iou_score: 0.7506 - f1-score: 0.8409 - val_loss: 0.8071 - val_iou_score: 0.7447 - val_f1-score: 0.8401\n",
      "Epoch 57/100\n",
      "57/57 [==============================] - 14s 250ms/step - loss: 0.7988 - iou_score: 0.7694 - f1-score: 0.8602 - val_loss: 0.8277 - val_iou_score: 0.6749 - val_f1-score: 0.7731\n",
      "Epoch 58/100\n",
      "57/57 [==============================] - 14s 250ms/step - loss: 0.8012 - iou_score: 0.7537 - f1-score: 0.8480 - val_loss: 0.8173 - val_iou_score: 0.7052 - val_f1-score: 0.8101\n",
      "Epoch 59/100\n",
      "57/57 [==============================] - 14s 250ms/step - loss: 0.7992 - iou_score: 0.7591 - f1-score: 0.8526 - val_loss: 0.8315 - val_iou_score: 0.6467 - val_f1-score: 0.7635\n",
      "Epoch 60/100\n",
      "57/57 [==============================] - 14s 250ms/step - loss: 0.7999 - iou_score: 0.7571 - f1-score: 0.8512 - val_loss: 0.8159 - val_iou_score: 0.7116 - val_f1-score: 0.8136\n",
      "Epoch 61/100\n",
      "57/57 [==============================] - 14s 250ms/step - loss: 0.8047 - iou_score: 0.7433 - f1-score: 0.8389 - val_loss: 0.8159 - val_iou_score: 0.7052 - val_f1-score: 0.8112\n",
      "Epoch 62/100\n",
      "57/57 [==============================] - 14s 250ms/step - loss: 0.7977 - iou_score: 0.7636 - f1-score: 0.8555 - val_loss: 0.8251 - val_iou_score: 0.6753 - val_f1-score: 0.7853\n",
      "Epoch 63/100\n",
      "57/57 [==============================] - 14s 250ms/step - loss: 0.8007 - iou_score: 0.7409 - f1-score: 0.8299 - val_loss: 0.8023 - val_iou_score: 0.7571 - val_f1-score: 0.8496\n",
      "Epoch 64/100\n",
      "57/57 [==============================] - 14s 250ms/step - loss: 0.8064 - iou_score: 0.7123 - f1-score: 0.8078 - val_loss: 0.8272 - val_iou_score: 0.6704 - val_f1-score: 0.7808\n",
      "Epoch 65/100\n",
      "57/57 [==============================] - 14s 250ms/step - loss: 0.8005 - iou_score: 0.7585 - f1-score: 0.8525 - val_loss: 0.8161 - val_iou_score: 0.7051 - val_f1-score: 0.8079\n",
      "Epoch 66/100\n",
      "57/57 [==============================] - 14s 250ms/step - loss: 0.8001 - iou_score: 0.7619 - f1-score: 0.8550 - val_loss: 0.8185 - val_iou_score: 0.7022 - val_f1-score: 0.8020\n",
      "Epoch 67/100\n",
      "57/57 [==============================] - 14s 250ms/step - loss: 0.7982 - iou_score: 0.7637 - f1-score: 0.8512 - val_loss: 0.8242 - val_iou_score: 0.6847 - val_f1-score: 0.7865\n",
      "Epoch 68/100\n",
      "57/57 [==============================] - 14s 250ms/step - loss: 0.7962 - iou_score: 0.7596 - f1-score: 0.8488 - val_loss: 0.8086 - val_iou_score: 0.7322 - val_f1-score: 0.8298\n",
      "Epoch 69/100\n",
      "57/57 [==============================] - 14s 250ms/step - loss: 0.7996 - iou_score: 0.7521 - f1-score: 0.8452 - val_loss: 0.8297 - val_iou_score: 0.6664 - val_f1-score: 0.7734\n",
      "Epoch 70/100\n",
      "57/57 [==============================] - 14s 250ms/step - loss: 0.8006 - iou_score: 0.7352 - f1-score: 0.8294 - val_loss: 0.8089 - val_iou_score: 0.7377 - val_f1-score: 0.8297\n",
      "Epoch 71/100\n",
      "57/57 [==============================] - 14s 250ms/step - loss: 0.7965 - iou_score: 0.7720 - f1-score: 0.8614 - val_loss: 0.8152 - val_iou_score: 0.7058 - val_f1-score: 0.8140\n",
      "Epoch 72/100\n",
      "57/57 [==============================] - 14s 250ms/step - loss: 0.7964 - iou_score: 0.7732 - f1-score: 0.8609 - val_loss: 0.8189 - val_iou_score: 0.7047 - val_f1-score: 0.7975\n",
      "Epoch 73/100\n",
      "57/57 [==============================] - 14s 250ms/step - loss: 0.8001 - iou_score: 0.7694 - f1-score: 0.8560 - val_loss: 0.8186 - val_iou_score: 0.6972 - val_f1-score: 0.8051\n",
      "Epoch 74/100\n",
      "57/57 [==============================] - 14s 250ms/step - loss: 0.7948 - iou_score: 0.7793 - f1-score: 0.8677 - val_loss: 0.8124 - val_iou_score: 0.7227 - val_f1-score: 0.8196\n",
      "Epoch 75/100\n",
      "57/57 [==============================] - 14s 250ms/step - loss: 0.7930 - iou_score: 0.7937 - f1-score: 0.8783 - val_loss: 0.8095 - val_iou_score: 0.7341 - val_f1-score: 0.8306\n",
      "Epoch 76/100\n",
      "57/57 [==============================] - 14s 250ms/step - loss: 0.7942 - iou_score: 0.7870 - f1-score: 0.8733 - val_loss: 0.8200 - val_iou_score: 0.7044 - val_f1-score: 0.7964\n",
      "Epoch 77/100\n",
      "57/57 [==============================] - 14s 250ms/step - loss: 0.7954 - iou_score: 0.7662 - f1-score: 0.8554 - val_loss: 0.8197 - val_iou_score: 0.6864 - val_f1-score: 0.7990\n",
      "Epoch 78/100\n",
      "57/57 [==============================] - 14s 250ms/step - loss: 0.7955 - iou_score: 0.7591 - f1-score: 0.8480 - val_loss: 0.8119 - val_iou_score: 0.7293 - val_f1-score: 0.8219\n",
      "Epoch 79/100\n",
      "57/57 [==============================] - 14s 250ms/step - loss: 0.8001 - iou_score: 0.7680 - f1-score: 0.8556 - val_loss: 0.8091 - val_iou_score: 0.7341 - val_f1-score: 0.8328\n",
      "Epoch 80/100\n",
      "57/57 [==============================] - 14s 250ms/step - loss: 0.7963 - iou_score: 0.7723 - f1-score: 0.8593 - val_loss: 0.8079 - val_iou_score: 0.7375 - val_f1-score: 0.8324\n",
      "Epoch 81/100\n",
      "57/57 [==============================] - 14s 249ms/step - loss: 0.7974 - iou_score: 0.7705 - f1-score: 0.8588 - val_loss: 0.8290 - val_iou_score: 0.6806 - val_f1-score: 0.7795\n",
      "Epoch 82/100\n",
      "57/57 [==============================] - 14s 249ms/step - loss: 0.7981 - iou_score: 0.7595 - f1-score: 0.8488 - val_loss: 0.8231 - val_iou_score: 0.6980 - val_f1-score: 0.7913\n",
      "Epoch 83/100\n",
      "57/57 [==============================] - 14s 249ms/step - loss: 0.7941 - iou_score: 0.7837 - f1-score: 0.8712 - val_loss: 0.8068 - val_iou_score: 0.7361 - val_f1-score: 0.8373\n",
      "Epoch 84/100\n",
      "57/57 [==============================] - 14s 249ms/step - loss: 0.7951 - iou_score: 0.7778 - f1-score: 0.8661 - val_loss: 0.8224 - val_iou_score: 0.6978 - val_f1-score: 0.7979\n",
      "Epoch 85/100\n",
      "57/57 [==============================] - 14s 249ms/step - loss: 0.7925 - iou_score: 0.7886 - f1-score: 0.8746 - val_loss: 0.8079 - val_iou_score: 0.7387 - val_f1-score: 0.8317\n",
      "Epoch 86/100\n",
      "57/57 [==============================] - 14s 249ms/step - loss: 0.7929 - iou_score: 0.7662 - f1-score: 0.8471 - val_loss: 0.8235 - val_iou_score: 0.6832 - val_f1-score: 0.7911\n",
      "Epoch 87/100\n",
      "57/57 [==============================] - 14s 249ms/step - loss: 0.7963 - iou_score: 0.7686 - f1-score: 0.8536 - val_loss: 0.8021 - val_iou_score: 0.7618 - val_f1-score: 0.8524\n",
      "Epoch 88/100\n",
      "57/57 [==============================] - 14s 250ms/step - loss: 0.7923 - iou_score: 0.7836 - f1-score: 0.8690 - val_loss: 0.8087 - val_iou_score: 0.7355 - val_f1-score: 0.8331\n",
      "Epoch 89/100\n",
      "57/57 [==============================] - 14s 249ms/step - loss: 0.7909 - iou_score: 0.8026 - f1-score: 0.8843 - val_loss: 0.8095 - val_iou_score: 0.7371 - val_f1-score: 0.8325\n",
      "Epoch 90/100\n",
      "57/57 [==============================] - 14s 250ms/step - loss: 0.7906 - iou_score: 0.7992 - f1-score: 0.8809 - val_loss: 0.8085 - val_iou_score: 0.7382 - val_f1-score: 0.8317\n",
      "Epoch 91/100\n",
      "57/57 [==============================] - 14s 249ms/step - loss: 0.7928 - iou_score: 0.7702 - f1-score: 0.8480 - val_loss: 0.8120 - val_iou_score: 0.7266 - val_f1-score: 0.8254\n",
      "Epoch 92/100\n",
      "57/57 [==============================] - 14s 249ms/step - loss: 0.7912 - iou_score: 0.7716 - f1-score: 0.8496 - val_loss: 0.8127 - val_iou_score: 0.7205 - val_f1-score: 0.8210\n",
      "Epoch 93/100\n",
      "57/57 [==============================] - 14s 250ms/step - loss: 0.7915 - iou_score: 0.7968 - f1-score: 0.8777 - val_loss: 0.8028 - val_iou_score: 0.7567 - val_f1-score: 0.8511\n",
      "Epoch 94/100\n",
      "57/57 [==============================] - 14s 250ms/step - loss: 0.7912 - iou_score: 0.7948 - f1-score: 0.8784 - val_loss: 0.8086 - val_iou_score: 0.7349 - val_f1-score: 0.8304\n",
      "Epoch 95/100\n",
      "57/57 [==============================] - 14s 250ms/step - loss: 0.7921 - iou_score: 0.7821 - f1-score: 0.8649 - val_loss: 0.8049 - val_iou_score: 0.7518 - val_f1-score: 0.8430\n",
      "Epoch 96/100\n",
      "57/57 [==============================] - 14s 249ms/step - loss: 0.7918 - iou_score: 0.7930 - f1-score: 0.8754 - val_loss: 0.8148 - val_iou_score: 0.7097 - val_f1-score: 0.8144\n",
      "Epoch 97/100\n",
      "57/57 [==============================] - 14s 249ms/step - loss: 0.7914 - iou_score: 0.8002 - f1-score: 0.8824 - val_loss: 0.7994 - val_iou_score: 0.7717 - val_f1-score: 0.8604\n",
      "Epoch 98/100\n",
      "57/57 [==============================] - 14s 249ms/step - loss: 0.7909 - iou_score: 0.7725 - f1-score: 0.8512 - val_loss: 0.8146 - val_iou_score: 0.7227 - val_f1-score: 0.8157\n",
      "Epoch 99/100\n",
      "57/57 [==============================] - 14s 249ms/step - loss: 0.7895 - iou_score: 0.7979 - f1-score: 0.8794 - val_loss: 0.8015 - val_iou_score: 0.7608 - val_f1-score: 0.8539\n",
      "Epoch 100/100\n",
      "57/57 [==============================] - 14s 250ms/step - loss: 0.7908 - iou_score: 0.7766 - f1-score: 0.8551 - val_loss: 0.8095 - val_iou_score: 0.7327 - val_f1-score: 0.8284\n"
     ]
    }
   ],
   "source": [
    "#Fit the model\n",
    "history=model.fit(X_train_prep, \n",
    "          y_train,\n",
    "          batch_size=8, \n",
    "          epochs=10,\n",
    "          verbose=1,\n",
    "          validation_data=(X_test_prep, y_test))"
   ]
  },
  {
   "cell_type": "markdown",
   "metadata": {
    "id": "whtF9V1npJ8s"
   },
   "source": []
  },
  {
   "cell_type": "code",
   "execution_count": null,
   "metadata": {
    "id": "LVTe3TrrE6DS"
   },
   "outputs": [],
   "source": [
    "#Save model for future use\n",
    "model.save('3D_model_vgg16_100epochs.h5')"
   ]
  },
  {
   "cell_type": "code",
   "execution_count": null,
   "metadata": {
    "colab": {
     "base_uri": "https://localhost:8080/",
     "height": 573
    },
    "id": "5Nk4OFMzAoLk",
    "outputId": "8a6a4c7e-f6a4-41b1-ddb0-8723f229014a"
   },
   "outputs": [
    {
     "data": {
      "image/png": "[encoded data removed]",
      "text/plain": [
       "<Figure size 432x288 with 1 Axes>"
      ]
     },
     "metadata": {
      "needs_background": "light",
      "tags": []
     },
     "output_type": "display_data"
    },
    {
     "data": {
      "image/png": "[encoded data removed]",
      "text/plain": [
       "<Figure size 432x288 with 1 Axes>"
      ]
     },
     "metadata": {
      "needs_background": "light",
      "tags": []
     },
     "output_type": "display_data"
    }
   ],
   "source": [
    "###\n",
    "#plot the training and validation IoU and loss at each epoch\n",
    "#loss = history.history['loss']\n",
    "#val_loss = history.history['val_loss']\n",
    "#epochs = range(1, len(loss) + 1)\n",
    "#plt.plot(epochs, loss, 'y', label='Training loss')\n",
    "#plt.plot(epochs, val_loss, 'r', label='Validation loss')\n",
    "#plt.title('Training and validation loss')\n",
    "#plt.xlabel('Epochs')\n",
    "#plt.ylabel('Loss')\n",
    "#plt.legend()\n",
    "#plt.show()\n",
    "\n",
    "#acc = history.history['iou_score']\n",
    "#val_acc = history.history['val_iou_score']\n",
    "\n",
    "#plt.plot(epochs, acc, 'y', label='Training IOU')\n",
    "#plt.plot(epochs, val_acc, 'r', label='Validation IOU')\n",
    "#plt.title('Training and validation IOU')\n",
    "#plt.xlabel('Epochs')\n",
    "#plt.ylabel('IOU')\n",
    "#plt.legend()\n",
    "#plt.show()"
   ]
  },
  {
   "cell_type": "code",
   "execution_count": 19,
   "metadata": {
    "id": "lwjlR25nF54w"
   },
   "outputs": [],
   "source": [
    "#Load the pretrained model for testing and predictions. \n",
    "from keras.models import load_model\n",
    "my_model = load_model('3D_model_vgg16_100epochs.h5', compile=False)\n",
    "#If you load a different model do not forget to preprocess accordingly. "
   ]
  },
  {
   "cell_type": "code",
   "execution_count": 21,
   "metadata": {
    "id": "kTAQpcUQA7SN"
   },
   "outputs": [],
   "source": [
    "#Predict on the test data\n",
    "y_pred=my_model.predict(X_test)\n",
    "y_pred_argmax=np.argmax(y_pred, axis=4)\n",
    "y_test_argmax = np.argmax(y_test, axis=4)\n"
   ]
  },
  {
   "cell_type": "code",
   "execution_count": null,
   "metadata": {
    "id": "FjHYiOqYBifK"
   },
   "outputs": [],
   "source": [
    "print(y_pred_argmax.shape)\n",
    "print(y_test_argmax.shape)\n",
    "print(np.unique(y_pred_argmax))"
   ]
  },
  {
   "cell_type": "code",
   "execution_count": null,
   "metadata": {
    "id": "3lv4EhPCHsrz"
   },
   "outputs": [],
   "source": [
    "#Using built in keras function for IoU\n",
    "#Only works on TF > 2.0\n",
    "#from keras.metrics import MeanIoU\n",
    "#from keras.metrics import MeanIoU\n",
    "#n_classes = 4\n",
    "#IOU_keras = MeanIoU(num_classes=n_classes)  \n",
    "#IOU_keras.update_state(y_test_argmax, y_pred_argmax)\n",
    "#print(\"Mean IoU =\", IOU_keras.result().numpy())"
   ]
  },
  {
   "cell_type": "code",
   "execution_count": null,
   "metadata": {
    "id": "BPcRSfobCBrE"
   },
   "outputs": [],
   "source": [
    "#Test some random images\n",
    "import random\n",
    "test_img_number = random.randint(0, len(X_test))\n",
    "test_img = X_test[test_img_number]\n",
    "ground_truth=y_test[test_img_number]\n",
    "\n",
    "test_img_input=np.expand_dims(test_img, 0)\n",
    "test_img_input1 = preprocess_input(test_img_input)\n",
    "\n",
    "test_pred1 = my_model.predict(test_img_input1)\n",
    "test_prediction1 = np.argmax(test_pred1, axis=4)[0,:,:,:]\n",
    "print(test_prediction1.shape)\n",
    "\n",
    "\n"
   ]
  },
  {
   "cell_type": "code",
   "execution_count": null,
   "metadata": {
    "id": "KGQr-RxdFYuF"
   },
   "outputs": [],
   "source": [
    "ground_truth_argmax = np.argmax(ground_truth, axis=3)\n",
    "print(test_img.shape)"
   ]
  },
  {
   "cell_type": "code",
   "execution_count": 25,
   "metadata": {
    "colab": {
     "base_uri": "https://localhost:8080/",
     "height": 261
    },
    "id": "7W9XsGK7FMuN",
    "outputId": "549c1b79-1130-4100-db4b-54821b56a8e4"
   },
   "outputs": [
    {
     "data": {
      "image/png": "[encoded data removed]",
      "text/plain": [
       "<Figure size 864x576 with 3 Axes>"
      ]
     },
     "metadata": {
      "needs_background": "light",
      "tags": []
     },
     "output_type": "display_data"
    }
   ],
   "source": [
    "#Plot individual slices from test predictions for verification\n",
    "slice = 14\n",
    "plt.figure(figsize=(12, 8))\n",
    "plt.subplot(231)\n",
    "plt.title('Testing Image')\n",
    "plt.imshow(test_img[slice,:,:,0], cmap='gray')\n",
    "plt.subplot(232)\n",
    "plt.title('Testing Label')\n",
    "plt.imshow(ground_truth_argmax[slice,:,:])\n",
    "plt.subplot(233)\n",
    "plt.title('Prediction on test image')\n",
    "plt.imshow(test_prediction1[slice,:,:])\n",
    "plt.show()"
   ]
  },
  {
   "cell_type": "markdown",
   "metadata": {
    "id": "CNi7_zeC7SmG"
   },
   "source": [
    "Now segment the full volume using the trained model."
   ]
  },
  {
   "cell_type": "code",
   "execution_count": null,
   "metadata": {
    "id": "C1eYttiN7tH4"
   },
   "outputs": [],
   "source": [
    "#Break the large image (volume) into patches of same size as the training images (patches)\n",
    "large_image = io.imread('/content/drive/MyDrive/Colab Notebooks/data/sandstone_3d/all_images/448_images_512x512.tif')\n",
    "patches = patchify(large_image, (64, 64, 64), step=64)  #Step=256 for 256 patches means no overlap\n",
    "print(large_image.shape)\n",
    "print(patches.shape)"
   ]
  },
  {
   "cell_type": "code",
   "execution_count": 27,
   "metadata": {
    "id": "G6KXGtea89wi"
   },
   "outputs": [],
   "source": [
    "# Predict each 3D patch   \n",
    "predicted_patches = []\n",
    "for i in range(patches.shape[0]):\n",
    "  for j in range(patches.shape[1]):\n",
    "    for k in range(patches.shape[2]):\n",
    "      #print(i,j,k)\n",
    "      single_patch = patches[i,j,k, :,:,:]\n",
    "      single_patch_3ch = np.stack((single_patch,)*3, axis=-1)\n",
    "      single_patch_3ch_input = preprocess_input(np.expand_dims(single_patch_3ch, axis=0))\n",
    "      single_patch_prediction = my_model.predict(single_patch_3ch_input)\n",
    "      single_patch_prediction_argmax = np.argmax(single_patch_prediction, axis=4)[0,:,:,:]\n",
    "      predicted_patches.append(single_patch_prediction_argmax)\n",
    "      \n"
   ]
  },
  {
   "cell_type": "code",
   "execution_count": null,
   "metadata": {
    "id": "yxX9vrPMAvK2"
   },
   "outputs": [],
   "source": [
    "#Convert list to numpy array\n",
    "predicted_patches = np.array(predicted_patches)\n",
    "print(predicted_patches.shape)"
   ]
  },
  {
   "cell_type": "code",
   "execution_count": null,
   "metadata": {
    "id": "qYQi_STcA6gw"
   },
   "outputs": [],
   "source": [
    "#Reshape to the shape we had after patchifying\n",
    "predicted_patches_reshaped = np.reshape(predicted_patches, \n",
    "                                        (patches.shape[0], patches.shape[1], patches.shape[2],\n",
    "                                         patches.shape[3], patches.shape[4], patches.shape[5]) )\n",
    "print(predicted_patches_reshaped.shape)"
   ]
  },
  {
   "cell_type": "code",
   "execution_count": null,
   "metadata": {
    "id": "SQcYSuaeBP2i"
   },
   "outputs": [],
   "source": [
    "#Repach individual patches into the orginal volume shape\n",
    "reconstructed_image = unpatchify(predicted_patches_reshaped, large_image.shape)\n",
    "print(reconstructed_image.shape)"
   ]
  },
  {
   "cell_type": "code",
   "execution_count": null,
   "metadata": {
    "id": "rFF2FwCGDR1A"
   },
   "outputs": [],
   "source": [
    "print(reconstructed_image.dtype)"
   ]
  },
  {
   "cell_type": "code",
   "execution_count": null,
   "metadata": {
    "id": "6VF_g8oLDjKp"
   },
   "outputs": [],
   "source": [
    "#Convert to uint8 so we can open image in most image viewing software packages\n",
    "reconstructed_image=reconstructed_image.astype(np.uint8)\n",
    "print(reconstructed_image.dtype)"
   ]
  },
  {
   "cell_type": "code",
   "execution_count": null,
   "metadata": {
    "id": "OdjWCDYoKLgM"
   },
   "outputs": [],
   "source": [
    "#Now save it as segmented volume.\n",
    "from tifffile import imsave\n",
    "imsave('/content/drive/MyDrive/Colab Notebooks/data/sandstone_3d/all_images/segmented.tif', reconstructed_image)\n",
    "    "
   ]
  },
  {
   "cell_type": "code",
   "execution_count": null,
   "metadata": {
    "id": "SsBu290SNNSD"
   },
   "outputs": [],
   "source": [
    "#If you would like to save the volume as multichannel dataset...."
   ]
  },
  {
   "cell_type": "code",
   "execution_count": null,
   "metadata": {
    "id": "EMFGGwT8FpEl"
   },
   "outputs": [],
   "source": [
    "print(np.unique(reconstructed_image))"
   ]
  },
  {
   "cell_type": "code",
   "execution_count": 34,
   "metadata": {
    "id": "USCSJT4rGBDt"
   },
   "outputs": [],
   "source": [
    "#Seperate each channel/segment to be combined as multiple channels.\n",
    "num_segments=4\n",
    "segm0 = (reconstructed_image == 0)\n",
    "segm1 = (reconstructed_image == 1)\n",
    "segm2 = (reconstructed_image == 2)\n",
    "segm3 = (reconstructed_image == 3)\n",
    "\n",
    "final = np.empty((reconstructed_image.shape[0], reconstructed_image.shape[1], reconstructed_image.shape[2], num_segments))\n",
    "final[:,:,:,0] = segm0\n",
    "final[:,:,:,1] = segm1\n",
    "final[:,:,:,2] = segm2\n",
    "final[:,:,:,3] = segm3"
   ]
  },
  {
   "cell_type": "code",
   "execution_count": null,
   "metadata": {
    "id": "F4ZfPm41J4yk"
   },
   "outputs": [],
   "source": [
    "#Use APEER OMETIFF library to read and write multidimensional images\n",
    "!pip install apeer-ometiff-library"
   ]
  },
  {
   "cell_type": "code",
   "execution_count": 36,
   "metadata": {
    "id": "enE_X9SCJoYA"
   },
   "outputs": [],
   "source": [
    "from apeer_ometiff_library import io"
   ]
  },
  {
   "cell_type": "code",
   "execution_count": 37,
   "metadata": {
    "id": "bj0QC8OWINAD"
   },
   "outputs": [],
   "source": [
    "# Expand image array to 5D of order (T, Z, C, X, Y)\n",
    "# This is the convention for OMETIFF format as written by APEER library\n",
    "final = np.expand_dims(final, axis=0)\n",
    "final=np.swapaxes(final, 2, 4)\n",
    "\n",
    "final = final.astype(np.int8)\n",
    "\n"
   ]
  },
  {
   "cell_type": "code",
   "execution_count": null,
   "metadata": {
    "id": "StgpqkJbIa2F"
   },
   "outputs": [],
   "source": [
    "print(\"Shape of the segmented volume is: T, Z, C, X, Y \", final.shape)\n",
    "print(final.dtype)\n"
   ]
  },
  {
   "cell_type": "code",
   "execution_count": null,
   "metadata": {
    "id": "oT2L6880WY1k"
   },
   "outputs": [],
   "source": [
    "# Write dataset as multi-dimensional OMETIFF *image*\n",
    "io.write_ometiff(\"/content/drive/MyDrive/Colab Notebooks/data/sandstone_3d/all_images/segmented_multi_channel.ome.tiff\", final)"
   ]
  }
 ],
 "metadata": {
  "accelerator": "GPU",
  "colab": {
   "collapsed_sections": [],
   "name": "3D_Unet.ipynb",
   "provenance": []
  },
  "kernelspec": {
   "display_name": "Python 3 (ipykernel)",
   "language": "python",
   "name": "python3"
  },
  "language_info": {
   "codemirror_mode": {
    "name": "ipython",
    "version": 3
   },
   "file_extension": ".py",
   "mimetype": "text/x-python",
   "name": "python",
   "nbconvert_exporter": "python",
   "pygments_lexer": "ipython3",
   "version": "3.11.4"
  }
 },
 "nbformat": 4,
 "nbformat_minor": 1
}
